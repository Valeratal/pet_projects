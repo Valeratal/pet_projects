{
 "cells": [
  {
   "cell_type": "markdown",
   "metadata": {
    "id": "B1_iJLzId1-4"
   },
   "source": [
    "# ABC-анализ (моющие средства)"
   ]
  },
  {
   "cell_type": "markdown",
   "metadata": {
    "id": "JquKkm6A5Rf3"
   },
   "source": [
    "Проведем анализ моющих средств (порошков)"
   ]
  },
  {
   "cell_type": "markdown",
   "metadata": {
    "id": "iVrdGKQVd8x3"
   },
   "source": [
    "Принцип ABC-аналиа заключается в оценке вклада каждой позиции (или товарной группы) в \"общий котел\", \n",
    "затем сортируем по %% этого вклада (так, чтобы товары с наибольшим вкладом были вверху). \n",
    "\n",
    "Затем считаем накопительным итогом %% и делим на группы: \n",
    "\n",
    "- все позиции, которые накопительными итогом дают 80% попадают в группу \"А\"; \n",
    "- от 81% до 95% попадают в группу \"B\"; \n",
    "- остальные 5% попадают в группу \"C\"."
   ]
  },
  {
   "cell_type": "markdown",
   "metadata": {
    "id": "HhiEaetPd-Io"
   },
   "source": [
    "Устанавливаем библиотеки"
   ]
  },
  {
   "cell_type": "code",
   "execution_count": 12,
   "metadata": {
    "id": "Pxm2rMmKQmHW"
   },
   "outputs": [],
   "source": [
    "import pandas as pd\n",
    "import numpy as np\n",
    "import plotly.express as px"
   ]
  },
  {
   "cell_type": "markdown",
   "metadata": {
    "id": "Mi-l2k4jeDCH"
   },
   "source": [
    "Pагрузка данных"
   ]
  },
  {
   "cell_type": "code",
   "execution_count": 13,
   "metadata": {
    "id": "0_tw3ZqBQnsO"
   },
   "outputs": [],
   "source": [
    "df = pd.read_csv('abc.csv', sep=';', decimal=',')"
   ]
  },
  {
   "cell_type": "markdown",
   "metadata": {},
   "source": [
    "Посмотрим типы столбцов"
   ]
  },
  {
   "cell_type": "code",
   "execution_count": 14,
   "metadata": {
    "colab": {
     "base_uri": "https://localhost:8080/"
    },
    "id": "NITOH43-QuI8",
    "outputId": "73d061df-cd01-45fa-f862-939766cfd6f1"
   },
   "outputs": [
    {
     "name": "stdout",
     "output_type": "stream",
     "text": [
      "<class 'pandas.core.frame.DataFrame'>\n",
      "RangeIndex: 18 entries, 0 to 17\n",
      "Data columns (total 4 columns):\n",
      " #   Column   Non-Null Count  Dtype  \n",
      "---  ------   --------------  -----  \n",
      " 0   name     18 non-null     object \n",
      " 1   revenue  18 non-null     float64\n",
      " 2   amount   18 non-null     float64\n",
      " 3   profit   18 non-null     float64\n",
      "dtypes: float64(3), object(1)\n",
      "memory usage: 708.0+ bytes\n"
     ]
    }
   ],
   "source": [
    "df.info()"
   ]
  },
  {
   "cell_type": "markdown",
   "metadata": {},
   "source": [
    "Посмотрим датафрейм"
   ]
  },
  {
   "cell_type": "code",
   "execution_count": 15,
   "metadata": {
    "colab": {
     "base_uri": "https://localhost:8080/",
     "height": 614
    },
    "id": "EFgH-xo5Q1oV",
    "outputId": "8b03ac47-a58d-4cf6-d929-86fab2ebdc2c"
   },
   "outputs": [
    {
     "data": {
      "text/html": [
       "<div>\n",
       "<style scoped>\n",
       "    .dataframe tbody tr th:only-of-type {\n",
       "        vertical-align: middle;\n",
       "    }\n",
       "\n",
       "    .dataframe tbody tr th {\n",
       "        vertical-align: top;\n",
       "    }\n",
       "\n",
       "    .dataframe thead th {\n",
       "        text-align: right;\n",
       "    }\n",
       "</style>\n",
       "<table border=\"1\" class=\"dataframe\">\n",
       "  <thead>\n",
       "    <tr style=\"text-align: right;\">\n",
       "      <th></th>\n",
       "      <th>name</th>\n",
       "      <th>revenue</th>\n",
       "      <th>amount</th>\n",
       "      <th>profit</th>\n",
       "    </tr>\n",
       "  </thead>\n",
       "  <tbody>\n",
       "    <tr>\n",
       "      <th>0</th>\n",
       "      <td>ARIEL</td>\n",
       "      <td>5344.86</td>\n",
       "      <td>43.0</td>\n",
       "      <td>0.21</td>\n",
       "    </tr>\n",
       "    <tr>\n",
       "      <th>1</th>\n",
       "      <td>BIMAX</td>\n",
       "      <td>11030.81</td>\n",
       "      <td>86.0</td>\n",
       "      <td>0.25</td>\n",
       "    </tr>\n",
       "    <tr>\n",
       "      <th>2</th>\n",
       "      <td>DOSIA</td>\n",
       "      <td>7587.34</td>\n",
       "      <td>91.0</td>\n",
       "      <td>0.25</td>\n",
       "    </tr>\n",
       "    <tr>\n",
       "      <th>3</th>\n",
       "      <td>TIDE</td>\n",
       "      <td>5626.73</td>\n",
       "      <td>48.0</td>\n",
       "      <td>0.23</td>\n",
       "    </tr>\n",
       "    <tr>\n",
       "      <th>4</th>\n",
       "      <td>АИСТ</td>\n",
       "      <td>1763.27</td>\n",
       "      <td>40.0</td>\n",
       "      <td>0.30</td>\n",
       "    </tr>\n",
       "    <tr>\n",
       "      <th>5</th>\n",
       "      <td>АИСТЕНОК</td>\n",
       "      <td>647.17</td>\n",
       "      <td>12.0</td>\n",
       "      <td>0.26</td>\n",
       "    </tr>\n",
       "    <tr>\n",
       "      <th>6</th>\n",
       "      <td>ДЕНИ</td>\n",
       "      <td>781.90</td>\n",
       "      <td>18.0</td>\n",
       "      <td>0.26</td>\n",
       "    </tr>\n",
       "    <tr>\n",
       "      <th>7</th>\n",
       "      <td>ЛОСК</td>\n",
       "      <td>6455.48</td>\n",
       "      <td>58.0</td>\n",
       "      <td>0.18</td>\n",
       "    </tr>\n",
       "    <tr>\n",
       "      <th>8</th>\n",
       "      <td>МИФ</td>\n",
       "      <td>14162.25</td>\n",
       "      <td>135.0</td>\n",
       "      <td>0.23</td>\n",
       "    </tr>\n",
       "    <tr>\n",
       "      <th>9</th>\n",
       "      <td>ПЕРСИЛ</td>\n",
       "      <td>4208.71</td>\n",
       "      <td>34.0</td>\n",
       "      <td>0.21</td>\n",
       "    </tr>\n",
       "    <tr>\n",
       "      <th>10</th>\n",
       "      <td>УШАСТЫЙ НЯНЬ</td>\n",
       "      <td>14305.22</td>\n",
       "      <td>76.0</td>\n",
       "      <td>0.23</td>\n",
       "    </tr>\n",
       "    <tr>\n",
       "      <th>11</th>\n",
       "      <td>BIO MIO</td>\n",
       "      <td>7589.07</td>\n",
       "      <td>20.0</td>\n",
       "      <td>0.17</td>\n",
       "    </tr>\n",
       "    <tr>\n",
       "      <th>12</th>\n",
       "      <td>СПАРК ДРАМ</td>\n",
       "      <td>5628.30</td>\n",
       "      <td>19.0</td>\n",
       "      <td>0.24</td>\n",
       "    </tr>\n",
       "    <tr>\n",
       "      <th>13</th>\n",
       "      <td>ПЕМОС</td>\n",
       "      <td>4836.57</td>\n",
       "      <td>69.0</td>\n",
       "      <td>0.25</td>\n",
       "    </tr>\n",
       "    <tr>\n",
       "      <th>14</th>\n",
       "      <td>КАПЕЛЬ</td>\n",
       "      <td>622.38</td>\n",
       "      <td>21.0</td>\n",
       "      <td>0.20</td>\n",
       "    </tr>\n",
       "    <tr>\n",
       "      <th>15</th>\n",
       "      <td>САРМА</td>\n",
       "      <td>1221.46</td>\n",
       "      <td>14.0</td>\n",
       "      <td>0.25</td>\n",
       "    </tr>\n",
       "    <tr>\n",
       "      <th>16</th>\n",
       "      <td>MEINE LIEBE</td>\n",
       "      <td>3312.03</td>\n",
       "      <td>10.0</td>\n",
       "      <td>0.11</td>\n",
       "    </tr>\n",
       "    <tr>\n",
       "      <th>17</th>\n",
       "      <td>МЕУЛЕ(MEULE)</td>\n",
       "      <td>1310.00</td>\n",
       "      <td>2.0</td>\n",
       "      <td>0.13</td>\n",
       "    </tr>\n",
       "  </tbody>\n",
       "</table>\n",
       "</div>"
      ],
      "text/plain": [
       "            name   revenue  amount  profit\n",
       "0          ARIEL   5344.86    43.0    0.21\n",
       "1          BIMAX  11030.81    86.0    0.25\n",
       "2          DOSIA   7587.34    91.0    0.25\n",
       "3           TIDE   5626.73    48.0    0.23\n",
       "4           АИСТ   1763.27    40.0    0.30\n",
       "5       АИСТЕНОК    647.17    12.0    0.26\n",
       "6           ДЕНИ    781.90    18.0    0.26\n",
       "7           ЛОСК   6455.48    58.0    0.18\n",
       "8            МИФ  14162.25   135.0    0.23\n",
       "9         ПЕРСИЛ   4208.71    34.0    0.21\n",
       "10  УШАСТЫЙ НЯНЬ  14305.22    76.0    0.23\n",
       "11       BIO MIO   7589.07    20.0    0.17\n",
       "12    СПАРК ДРАМ   5628.30    19.0    0.24\n",
       "13         ПЕМОС   4836.57    69.0    0.25\n",
       "14        КАПЕЛЬ    622.38    21.0    0.20\n",
       "15         САРМА   1221.46    14.0    0.25\n",
       "16   MEINE LIEBE   3312.03    10.0    0.11\n",
       "17  МЕУЛЕ(MEULE)   1310.00     2.0    0.13"
      ]
     },
     "execution_count": 15,
     "metadata": {},
     "output_type": "execute_result"
    }
   ],
   "source": [
    "df"
   ]
  },
  {
   "cell_type": "markdown",
   "metadata": {},
   "source": [
    "Описание столбцов\n",
    "\n",
    " - name - наименование\n",
    " - revenue - выручка\n",
    " - amount - кол-во проданных штук\n",
    " - profit - процент маржинальности (%)"
   ]
  },
  {
   "cell_type": "markdown",
   "metadata": {
    "id": "7R-T0gFNeKLm"
   },
   "source": [
    "## Одномерный ABC-анализ\n",
    "\n",
    "Проводим по следующему алгоритму:\n",
    "\n",
    "1. Выбираем характеристику для анализа\n",
    "2. Считаем относительный вклад каждой позиции в общий «котел»\n",
    "3. Сортируем по убыванию величины вклада\n",
    "4. Находим накопительный итог вклада\n",
    "5. Разбиваем на группы A (накопительный итог до 80%), Б (накопительный итог до 95%) и С (накопительный итог до 100%)"
   ]
  },
  {
   "cell_type": "markdown",
   "metadata": {},
   "source": [
    "Для анализа будем использовать колонку \"amount - кол-во проданных штук\""
   ]
  },
  {
   "cell_type": "code",
   "execution_count": 23,
   "metadata": {
    "colab": {
     "base_uri": "https://localhost:8080/",
     "height": 614
    },
    "id": "L0-H0m7sedg-",
    "outputId": "b93ea25b-ec6f-4782-c781-2f8d27809487"
   },
   "outputs": [
    {
     "data": {
      "text/html": [
       "<div>\n",
       "<style scoped>\n",
       "    .dataframe tbody tr th:only-of-type {\n",
       "        vertical-align: middle;\n",
       "    }\n",
       "\n",
       "    .dataframe tbody tr th {\n",
       "        vertical-align: top;\n",
       "    }\n",
       "\n",
       "    .dataframe thead th {\n",
       "        text-align: right;\n",
       "    }\n",
       "</style>\n",
       "<table border=\"1\" class=\"dataframe\">\n",
       "  <thead>\n",
       "    <tr style=\"text-align: right;\">\n",
       "      <th></th>\n",
       "      <th>name</th>\n",
       "      <th>revenue</th>\n",
       "      <th>amount</th>\n",
       "      <th>profit</th>\n",
       "      <th>rel_amount</th>\n",
       "      <th>cumsum_amount</th>\n",
       "      <th>abc_amount</th>\n",
       "    </tr>\n",
       "  </thead>\n",
       "  <tbody>\n",
       "    <tr>\n",
       "      <th>8</th>\n",
       "      <td>МИФ</td>\n",
       "      <td>14162.25</td>\n",
       "      <td>135.0</td>\n",
       "      <td>0.23</td>\n",
       "      <td>0.169598</td>\n",
       "      <td>0.169598</td>\n",
       "      <td>A</td>\n",
       "    </tr>\n",
       "    <tr>\n",
       "      <th>2</th>\n",
       "      <td>DOSIA</td>\n",
       "      <td>7587.34</td>\n",
       "      <td>91.0</td>\n",
       "      <td>0.25</td>\n",
       "      <td>0.114322</td>\n",
       "      <td>0.283920</td>\n",
       "      <td>A</td>\n",
       "    </tr>\n",
       "    <tr>\n",
       "      <th>1</th>\n",
       "      <td>BIMAX</td>\n",
       "      <td>11030.81</td>\n",
       "      <td>86.0</td>\n",
       "      <td>0.25</td>\n",
       "      <td>0.108040</td>\n",
       "      <td>0.391960</td>\n",
       "      <td>A</td>\n",
       "    </tr>\n",
       "    <tr>\n",
       "      <th>10</th>\n",
       "      <td>УШАСТЫЙ НЯНЬ</td>\n",
       "      <td>14305.22</td>\n",
       "      <td>76.0</td>\n",
       "      <td>0.23</td>\n",
       "      <td>0.095477</td>\n",
       "      <td>0.487437</td>\n",
       "      <td>A</td>\n",
       "    </tr>\n",
       "    <tr>\n",
       "      <th>13</th>\n",
       "      <td>ПЕМОС</td>\n",
       "      <td>4836.57</td>\n",
       "      <td>69.0</td>\n",
       "      <td>0.25</td>\n",
       "      <td>0.086683</td>\n",
       "      <td>0.574121</td>\n",
       "      <td>A</td>\n",
       "    </tr>\n",
       "    <tr>\n",
       "      <th>7</th>\n",
       "      <td>ЛОСК</td>\n",
       "      <td>6455.48</td>\n",
       "      <td>58.0</td>\n",
       "      <td>0.18</td>\n",
       "      <td>0.072864</td>\n",
       "      <td>0.646985</td>\n",
       "      <td>A</td>\n",
       "    </tr>\n",
       "    <tr>\n",
       "      <th>3</th>\n",
       "      <td>TIDE</td>\n",
       "      <td>5626.73</td>\n",
       "      <td>48.0</td>\n",
       "      <td>0.23</td>\n",
       "      <td>0.060302</td>\n",
       "      <td>0.707286</td>\n",
       "      <td>A</td>\n",
       "    </tr>\n",
       "    <tr>\n",
       "      <th>0</th>\n",
       "      <td>ARIEL</td>\n",
       "      <td>5344.86</td>\n",
       "      <td>43.0</td>\n",
       "      <td>0.21</td>\n",
       "      <td>0.054020</td>\n",
       "      <td>0.761307</td>\n",
       "      <td>A</td>\n",
       "    </tr>\n",
       "    <tr>\n",
       "      <th>4</th>\n",
       "      <td>АИСТ</td>\n",
       "      <td>1763.27</td>\n",
       "      <td>40.0</td>\n",
       "      <td>0.30</td>\n",
       "      <td>0.050251</td>\n",
       "      <td>0.811558</td>\n",
       "      <td>B</td>\n",
       "    </tr>\n",
       "    <tr>\n",
       "      <th>9</th>\n",
       "      <td>ПЕРСИЛ</td>\n",
       "      <td>4208.71</td>\n",
       "      <td>34.0</td>\n",
       "      <td>0.21</td>\n",
       "      <td>0.042714</td>\n",
       "      <td>0.854271</td>\n",
       "      <td>B</td>\n",
       "    </tr>\n",
       "    <tr>\n",
       "      <th>14</th>\n",
       "      <td>КАПЕЛЬ</td>\n",
       "      <td>622.38</td>\n",
       "      <td>21.0</td>\n",
       "      <td>0.20</td>\n",
       "      <td>0.026382</td>\n",
       "      <td>0.880653</td>\n",
       "      <td>B</td>\n",
       "    </tr>\n",
       "    <tr>\n",
       "      <th>11</th>\n",
       "      <td>BIO MIO</td>\n",
       "      <td>7589.07</td>\n",
       "      <td>20.0</td>\n",
       "      <td>0.17</td>\n",
       "      <td>0.025126</td>\n",
       "      <td>0.905779</td>\n",
       "      <td>B</td>\n",
       "    </tr>\n",
       "    <tr>\n",
       "      <th>12</th>\n",
       "      <td>СПАРК ДРАМ</td>\n",
       "      <td>5628.30</td>\n",
       "      <td>19.0</td>\n",
       "      <td>0.24</td>\n",
       "      <td>0.023869</td>\n",
       "      <td>0.929648</td>\n",
       "      <td>B</td>\n",
       "    </tr>\n",
       "    <tr>\n",
       "      <th>6</th>\n",
       "      <td>ДЕНИ</td>\n",
       "      <td>781.90</td>\n",
       "      <td>18.0</td>\n",
       "      <td>0.26</td>\n",
       "      <td>0.022613</td>\n",
       "      <td>0.952261</td>\n",
       "      <td>C</td>\n",
       "    </tr>\n",
       "    <tr>\n",
       "      <th>15</th>\n",
       "      <td>САРМА</td>\n",
       "      <td>1221.46</td>\n",
       "      <td>14.0</td>\n",
       "      <td>0.25</td>\n",
       "      <td>0.017588</td>\n",
       "      <td>0.969849</td>\n",
       "      <td>C</td>\n",
       "    </tr>\n",
       "    <tr>\n",
       "      <th>5</th>\n",
       "      <td>АИСТЕНОК</td>\n",
       "      <td>647.17</td>\n",
       "      <td>12.0</td>\n",
       "      <td>0.26</td>\n",
       "      <td>0.015075</td>\n",
       "      <td>0.984925</td>\n",
       "      <td>C</td>\n",
       "    </tr>\n",
       "    <tr>\n",
       "      <th>16</th>\n",
       "      <td>MEINE LIEBE</td>\n",
       "      <td>3312.03</td>\n",
       "      <td>10.0</td>\n",
       "      <td>0.11</td>\n",
       "      <td>0.012563</td>\n",
       "      <td>0.997487</td>\n",
       "      <td>C</td>\n",
       "    </tr>\n",
       "    <tr>\n",
       "      <th>17</th>\n",
       "      <td>МЕУЛЕ(MEULE)</td>\n",
       "      <td>1310.00</td>\n",
       "      <td>2.0</td>\n",
       "      <td>0.13</td>\n",
       "      <td>0.002513</td>\n",
       "      <td>1.000000</td>\n",
       "      <td>C</td>\n",
       "    </tr>\n",
       "  </tbody>\n",
       "</table>\n",
       "</div>"
      ],
      "text/plain": [
       "            name   revenue  amount  profit  rel_amount  cumsum_amount  \\\n",
       "8            МИФ  14162.25   135.0    0.23    0.169598       0.169598   \n",
       "2          DOSIA   7587.34    91.0    0.25    0.114322       0.283920   \n",
       "1          BIMAX  11030.81    86.0    0.25    0.108040       0.391960   \n",
       "10  УШАСТЫЙ НЯНЬ  14305.22    76.0    0.23    0.095477       0.487437   \n",
       "13         ПЕМОС   4836.57    69.0    0.25    0.086683       0.574121   \n",
       "7           ЛОСК   6455.48    58.0    0.18    0.072864       0.646985   \n",
       "3           TIDE   5626.73    48.0    0.23    0.060302       0.707286   \n",
       "0          ARIEL   5344.86    43.0    0.21    0.054020       0.761307   \n",
       "4           АИСТ   1763.27    40.0    0.30    0.050251       0.811558   \n",
       "9         ПЕРСИЛ   4208.71    34.0    0.21    0.042714       0.854271   \n",
       "14        КАПЕЛЬ    622.38    21.0    0.20    0.026382       0.880653   \n",
       "11       BIO MIO   7589.07    20.0    0.17    0.025126       0.905779   \n",
       "12    СПАРК ДРАМ   5628.30    19.0    0.24    0.023869       0.929648   \n",
       "6           ДЕНИ    781.90    18.0    0.26    0.022613       0.952261   \n",
       "15         САРМА   1221.46    14.0    0.25    0.017588       0.969849   \n",
       "5       АИСТЕНОК    647.17    12.0    0.26    0.015075       0.984925   \n",
       "16   MEINE LIEBE   3312.03    10.0    0.11    0.012563       0.997487   \n",
       "17  МЕУЛЕ(MEULE)   1310.00     2.0    0.13    0.002513       1.000000   \n",
       "\n",
       "   abc_amount  \n",
       "8           A  \n",
       "2           A  \n",
       "1           A  \n",
       "10          A  \n",
       "13          A  \n",
       "7           A  \n",
       "3           A  \n",
       "0           A  \n",
       "4           B  \n",
       "9           B  \n",
       "14          B  \n",
       "11          B  \n",
       "12          B  \n",
       "6           C  \n",
       "15          C  \n",
       "5           C  \n",
       "16          C  \n",
       "17          C  "
      ]
     },
     "execution_count": 23,
     "metadata": {},
     "output_type": "execute_result"
    }
   ],
   "source": [
    "index = 'name'\n",
    "col = 'amount'\n",
    "\n",
    "# создаим новый датафрейм\n",
    "groupped_df = df.copy()\n",
    "\n",
    "# Считаем и делим для каждой группы товаров % от суммы\n",
    "groupped_df[f'rel_{col}'] = groupped_df[col] / sum(groupped_df[col]) \n",
    "\n",
    "# затем сортируем наши порошки по полученным выше значениям (самые большие значения сначала)\n",
    "groupped_df = groupped_df.sort_values(f'rel_{col}', ascending=False)\n",
    "\n",
    "# считаем накопительный итог с помощью .cumsum\n",
    "groupped_df[f'cumsum_{col}'] = groupped_df[f'rel_{col}'].cumsum()\n",
    "\n",
    "# Присваиваем группы в зависимости от значений в колонке  \"сumsum_amount\"\n",
    "groupped_df[f'abc_{col}'] = np.where(groupped_df[f'cumsum_{col}'] < 0.8, 'A', np.where(groupped_df[f'cumsum_{col}'] < 0.95, 'B', 'C'))\n",
    "\n",
    "# Смотрим что получилось\n",
    "groupped_df"
   ]
  },
  {
   "cell_type": "markdown",
   "metadata": {},
   "source": [
    "Недостатки одномерного ABC-анализа в том, что в данном случае мы ориентируемся только на кол-во продаж, игнорируя маржинальность, сумму продаж"
   ]
  },
  {
   "cell_type": "markdown",
   "metadata": {
    "id": "JIHb2NWUfbF9"
   },
   "source": [
    "## Многомерный ABC-анализ\n",
    "\n",
    "Делаем тоже самое, только по всем 3 характеристикам - количество, сумма продаж, % доходности"
   ]
  },
  {
   "cell_type": "code",
   "execution_count": 32,
   "metadata": {
    "colab": {
     "base_uri": "https://localhost:8080/",
     "height": 614
    },
    "id": "zrO_5_sfSwao",
    "outputId": "a5c08fd9-e255-4bb6-9c18-4ee6c10e9eca"
   },
   "outputs": [
    {
     "data": {
      "text/html": [
       "<div>\n",
       "<style scoped>\n",
       "    .dataframe tbody tr th:only-of-type {\n",
       "        vertical-align: middle;\n",
       "    }\n",
       "\n",
       "    .dataframe tbody tr th {\n",
       "        vertical-align: top;\n",
       "    }\n",
       "\n",
       "    .dataframe thead th {\n",
       "        text-align: right;\n",
       "    }\n",
       "</style>\n",
       "<table border=\"1\" class=\"dataframe\">\n",
       "  <thead>\n",
       "    <tr style=\"text-align: right;\">\n",
       "      <th></th>\n",
       "      <th>revenue</th>\n",
       "      <th>amount</th>\n",
       "      <th>profit</th>\n",
       "      <th>abc_revenue</th>\n",
       "      <th>abc_amount</th>\n",
       "      <th>abc_profit</th>\n",
       "    </tr>\n",
       "  </thead>\n",
       "  <tbody>\n",
       "    <tr>\n",
       "      <th>4</th>\n",
       "      <td>1763.27</td>\n",
       "      <td>40.0</td>\n",
       "      <td>0.30</td>\n",
       "      <td>C</td>\n",
       "      <td>B</td>\n",
       "      <td>A</td>\n",
       "    </tr>\n",
       "    <tr>\n",
       "      <th>5</th>\n",
       "      <td>647.17</td>\n",
       "      <td>12.0</td>\n",
       "      <td>0.26</td>\n",
       "      <td>C</td>\n",
       "      <td>C</td>\n",
       "      <td>A</td>\n",
       "    </tr>\n",
       "    <tr>\n",
       "      <th>6</th>\n",
       "      <td>781.90</td>\n",
       "      <td>18.0</td>\n",
       "      <td>0.26</td>\n",
       "      <td>C</td>\n",
       "      <td>C</td>\n",
       "      <td>A</td>\n",
       "    </tr>\n",
       "    <tr>\n",
       "      <th>1</th>\n",
       "      <td>11030.81</td>\n",
       "      <td>86.0</td>\n",
       "      <td>0.25</td>\n",
       "      <td>A</td>\n",
       "      <td>A</td>\n",
       "      <td>A</td>\n",
       "    </tr>\n",
       "    <tr>\n",
       "      <th>13</th>\n",
       "      <td>4836.57</td>\n",
       "      <td>69.0</td>\n",
       "      <td>0.25</td>\n",
       "      <td>B</td>\n",
       "      <td>A</td>\n",
       "      <td>A</td>\n",
       "    </tr>\n",
       "    <tr>\n",
       "      <th>15</th>\n",
       "      <td>1221.46</td>\n",
       "      <td>14.0</td>\n",
       "      <td>0.25</td>\n",
       "      <td>C</td>\n",
       "      <td>C</td>\n",
       "      <td>A</td>\n",
       "    </tr>\n",
       "    <tr>\n",
       "      <th>2</th>\n",
       "      <td>7587.34</td>\n",
       "      <td>91.0</td>\n",
       "      <td>0.25</td>\n",
       "      <td>A</td>\n",
       "      <td>A</td>\n",
       "      <td>A</td>\n",
       "    </tr>\n",
       "    <tr>\n",
       "      <th>12</th>\n",
       "      <td>5628.30</td>\n",
       "      <td>19.0</td>\n",
       "      <td>0.24</td>\n",
       "      <td>A</td>\n",
       "      <td>B</td>\n",
       "      <td>A</td>\n",
       "    </tr>\n",
       "    <tr>\n",
       "      <th>8</th>\n",
       "      <td>14162.25</td>\n",
       "      <td>135.0</td>\n",
       "      <td>0.23</td>\n",
       "      <td>A</td>\n",
       "      <td>A</td>\n",
       "      <td>A</td>\n",
       "    </tr>\n",
       "    <tr>\n",
       "      <th>10</th>\n",
       "      <td>14305.22</td>\n",
       "      <td>76.0</td>\n",
       "      <td>0.23</td>\n",
       "      <td>A</td>\n",
       "      <td>A</td>\n",
       "      <td>A</td>\n",
       "    </tr>\n",
       "    <tr>\n",
       "      <th>3</th>\n",
       "      <td>5626.73</td>\n",
       "      <td>48.0</td>\n",
       "      <td>0.23</td>\n",
       "      <td>A</td>\n",
       "      <td>A</td>\n",
       "      <td>A</td>\n",
       "    </tr>\n",
       "    <tr>\n",
       "      <th>9</th>\n",
       "      <td>4208.71</td>\n",
       "      <td>34.0</td>\n",
       "      <td>0.21</td>\n",
       "      <td>B</td>\n",
       "      <td>B</td>\n",
       "      <td>A</td>\n",
       "    </tr>\n",
       "    <tr>\n",
       "      <th>0</th>\n",
       "      <td>5344.86</td>\n",
       "      <td>43.0</td>\n",
       "      <td>0.21</td>\n",
       "      <td>B</td>\n",
       "      <td>A</td>\n",
       "      <td>B</td>\n",
       "    </tr>\n",
       "    <tr>\n",
       "      <th>14</th>\n",
       "      <td>622.38</td>\n",
       "      <td>21.0</td>\n",
       "      <td>0.20</td>\n",
       "      <td>C</td>\n",
       "      <td>B</td>\n",
       "      <td>B</td>\n",
       "    </tr>\n",
       "    <tr>\n",
       "      <th>7</th>\n",
       "      <td>6455.48</td>\n",
       "      <td>58.0</td>\n",
       "      <td>0.18</td>\n",
       "      <td>A</td>\n",
       "      <td>A</td>\n",
       "      <td>B</td>\n",
       "    </tr>\n",
       "    <tr>\n",
       "      <th>11</th>\n",
       "      <td>7589.07</td>\n",
       "      <td>20.0</td>\n",
       "      <td>0.17</td>\n",
       "      <td>A</td>\n",
       "      <td>B</td>\n",
       "      <td>B</td>\n",
       "    </tr>\n",
       "    <tr>\n",
       "      <th>17</th>\n",
       "      <td>1310.00</td>\n",
       "      <td>2.0</td>\n",
       "      <td>0.13</td>\n",
       "      <td>C</td>\n",
       "      <td>C</td>\n",
       "      <td>C</td>\n",
       "    </tr>\n",
       "    <tr>\n",
       "      <th>16</th>\n",
       "      <td>3312.03</td>\n",
       "      <td>10.0</td>\n",
       "      <td>0.11</td>\n",
       "      <td>B</td>\n",
       "      <td>C</td>\n",
       "      <td>C</td>\n",
       "    </tr>\n",
       "  </tbody>\n",
       "</table>\n",
       "</div>"
      ],
      "text/plain": [
       "     revenue  amount  profit abc_revenue abc_amount abc_profit\n",
       "4    1763.27    40.0    0.30           C          B          A\n",
       "5     647.17    12.0    0.26           C          C          A\n",
       "6     781.90    18.0    0.26           C          C          A\n",
       "1   11030.81    86.0    0.25           A          A          A\n",
       "13   4836.57    69.0    0.25           B          A          A\n",
       "15   1221.46    14.0    0.25           C          C          A\n",
       "2    7587.34    91.0    0.25           A          A          A\n",
       "12   5628.30    19.0    0.24           A          B          A\n",
       "8   14162.25   135.0    0.23           A          A          A\n",
       "10  14305.22    76.0    0.23           A          A          A\n",
       "3    5626.73    48.0    0.23           A          A          A\n",
       "9    4208.71    34.0    0.21           B          B          A\n",
       "0    5344.86    43.0    0.21           B          A          B\n",
       "14    622.38    21.0    0.20           C          B          B\n",
       "7    6455.48    58.0    0.18           A          A          B\n",
       "11   7589.07    20.0    0.17           A          B          B\n",
       "17   1310.00     2.0    0.13           C          C          C\n",
       "16   3312.03    10.0    0.11           B          C          C"
      ]
     },
     "execution_count": 32,
     "metadata": {},
     "output_type": "execute_result"
    }
   ],
   "source": [
    "index = 'name'\n",
    "# создаим переменную куда положим список столбцов\n",
    "cols = list(df.columns)\n",
    "\n",
    "# удалим 'name' \n",
    "# (удалять приходится, потому что name не числовое поле -  как альтернатива, в cols указывать конкретные столбцы )\n",
    "cols.remove(index)\n",
    "\n",
    "# Циклом пробегаемся по всем столбцам\n",
    "for col in cols:\n",
    "    groupped_df[f'rel_{col}'] = groupped_df[col] / sum(groupped_df[col])\n",
    "    groupped_df = groupped_df.sort_values(f'rel_{col}', ascending=False)\n",
    "    groupped_df[f'cumsum_{col}'] = groupped_df[f'rel_{col}'].cumsum()\n",
    "    groupped_df[f'abc_{col}'] = np.where(groupped_df[f'cumsum_{col}'] < 0.8, 'A', np.where(groupped_df[f'cumsum_{col}'] < 0.95, 'B', 'C'))\n",
    "groupped_df[cols + [f'abc_{col}' for col in cols]]"
   ]
  },
  {
   "cell_type": "markdown",
   "metadata": {},
   "source": [
    "Посмотрим на колонки в groupped_df"
   ]
  },
  {
   "cell_type": "code",
   "execution_count": 34,
   "metadata": {},
   "outputs": [
    {
     "data": {
      "text/plain": [
       "Index(['name', 'revenue', 'amount', 'profit', 'rel_amount', 'cumsum_amount',\n",
       "       'abc_amount', 'rel_revenue', 'cumsum_revenue', 'abc_revenue',\n",
       "       'rel_profit', 'cumsum_profit', 'abc_profit', 'final_group'],\n",
       "      dtype='object')"
      ]
     },
     "execution_count": 34,
     "metadata": {},
     "output_type": "execute_result"
    }
   ],
   "source": [
    "groupped_df.columns"
   ]
  },
  {
   "cell_type": "markdown",
   "metadata": {},
   "source": [
    "Выберем нужные для нас"
   ]
  },
  {
   "cell_type": "code",
   "execution_count": 37,
   "metadata": {},
   "outputs": [
    {
     "data": {
      "text/html": [
       "<div>\n",
       "<style scoped>\n",
       "    .dataframe tbody tr th:only-of-type {\n",
       "        vertical-align: middle;\n",
       "    }\n",
       "\n",
       "    .dataframe tbody tr th {\n",
       "        vertical-align: top;\n",
       "    }\n",
       "\n",
       "    .dataframe thead th {\n",
       "        text-align: right;\n",
       "    }\n",
       "</style>\n",
       "<table border=\"1\" class=\"dataframe\">\n",
       "  <thead>\n",
       "    <tr style=\"text-align: right;\">\n",
       "      <th></th>\n",
       "      <th>name</th>\n",
       "      <th>revenue</th>\n",
       "      <th>amount</th>\n",
       "      <th>profit</th>\n",
       "      <th>abc_amount</th>\n",
       "      <th>abc_revenue</th>\n",
       "      <th>abc_profit</th>\n",
       "      <th>final_group</th>\n",
       "    </tr>\n",
       "  </thead>\n",
       "  <tbody>\n",
       "    <tr>\n",
       "      <th>4</th>\n",
       "      <td>АИСТ</td>\n",
       "      <td>1763.27</td>\n",
       "      <td>40.0</td>\n",
       "      <td>0.30</td>\n",
       "      <td>B</td>\n",
       "      <td>C</td>\n",
       "      <td>A</td>\n",
       "      <td>CBA</td>\n",
       "    </tr>\n",
       "    <tr>\n",
       "      <th>5</th>\n",
       "      <td>АИСТЕНОК</td>\n",
       "      <td>647.17</td>\n",
       "      <td>12.0</td>\n",
       "      <td>0.26</td>\n",
       "      <td>C</td>\n",
       "      <td>C</td>\n",
       "      <td>A</td>\n",
       "      <td>CCA</td>\n",
       "    </tr>\n",
       "    <tr>\n",
       "      <th>6</th>\n",
       "      <td>ДЕНИ</td>\n",
       "      <td>781.90</td>\n",
       "      <td>18.0</td>\n",
       "      <td>0.26</td>\n",
       "      <td>C</td>\n",
       "      <td>C</td>\n",
       "      <td>A</td>\n",
       "      <td>CCA</td>\n",
       "    </tr>\n",
       "    <tr>\n",
       "      <th>1</th>\n",
       "      <td>BIMAX</td>\n",
       "      <td>11030.81</td>\n",
       "      <td>86.0</td>\n",
       "      <td>0.25</td>\n",
       "      <td>A</td>\n",
       "      <td>A</td>\n",
       "      <td>A</td>\n",
       "      <td>AAA</td>\n",
       "    </tr>\n",
       "    <tr>\n",
       "      <th>13</th>\n",
       "      <td>ПЕМОС</td>\n",
       "      <td>4836.57</td>\n",
       "      <td>69.0</td>\n",
       "      <td>0.25</td>\n",
       "      <td>A</td>\n",
       "      <td>B</td>\n",
       "      <td>A</td>\n",
       "      <td>BAA</td>\n",
       "    </tr>\n",
       "    <tr>\n",
       "      <th>15</th>\n",
       "      <td>САРМА</td>\n",
       "      <td>1221.46</td>\n",
       "      <td>14.0</td>\n",
       "      <td>0.25</td>\n",
       "      <td>C</td>\n",
       "      <td>C</td>\n",
       "      <td>A</td>\n",
       "      <td>CCA</td>\n",
       "    </tr>\n",
       "    <tr>\n",
       "      <th>2</th>\n",
       "      <td>DOSIA</td>\n",
       "      <td>7587.34</td>\n",
       "      <td>91.0</td>\n",
       "      <td>0.25</td>\n",
       "      <td>A</td>\n",
       "      <td>A</td>\n",
       "      <td>A</td>\n",
       "      <td>AAA</td>\n",
       "    </tr>\n",
       "    <tr>\n",
       "      <th>12</th>\n",
       "      <td>СПАРК ДРАМ</td>\n",
       "      <td>5628.30</td>\n",
       "      <td>19.0</td>\n",
       "      <td>0.24</td>\n",
       "      <td>B</td>\n",
       "      <td>A</td>\n",
       "      <td>A</td>\n",
       "      <td>ABA</td>\n",
       "    </tr>\n",
       "    <tr>\n",
       "      <th>8</th>\n",
       "      <td>МИФ</td>\n",
       "      <td>14162.25</td>\n",
       "      <td>135.0</td>\n",
       "      <td>0.23</td>\n",
       "      <td>A</td>\n",
       "      <td>A</td>\n",
       "      <td>A</td>\n",
       "      <td>AAA</td>\n",
       "    </tr>\n",
       "    <tr>\n",
       "      <th>10</th>\n",
       "      <td>УШАСТЫЙ НЯНЬ</td>\n",
       "      <td>14305.22</td>\n",
       "      <td>76.0</td>\n",
       "      <td>0.23</td>\n",
       "      <td>A</td>\n",
       "      <td>A</td>\n",
       "      <td>A</td>\n",
       "      <td>AAA</td>\n",
       "    </tr>\n",
       "    <tr>\n",
       "      <th>3</th>\n",
       "      <td>TIDE</td>\n",
       "      <td>5626.73</td>\n",
       "      <td>48.0</td>\n",
       "      <td>0.23</td>\n",
       "      <td>A</td>\n",
       "      <td>A</td>\n",
       "      <td>A</td>\n",
       "      <td>AAA</td>\n",
       "    </tr>\n",
       "    <tr>\n",
       "      <th>9</th>\n",
       "      <td>ПЕРСИЛ</td>\n",
       "      <td>4208.71</td>\n",
       "      <td>34.0</td>\n",
       "      <td>0.21</td>\n",
       "      <td>B</td>\n",
       "      <td>B</td>\n",
       "      <td>A</td>\n",
       "      <td>BBA</td>\n",
       "    </tr>\n",
       "    <tr>\n",
       "      <th>0</th>\n",
       "      <td>ARIEL</td>\n",
       "      <td>5344.86</td>\n",
       "      <td>43.0</td>\n",
       "      <td>0.21</td>\n",
       "      <td>A</td>\n",
       "      <td>B</td>\n",
       "      <td>B</td>\n",
       "      <td>BAB</td>\n",
       "    </tr>\n",
       "    <tr>\n",
       "      <th>14</th>\n",
       "      <td>КАПЕЛЬ</td>\n",
       "      <td>622.38</td>\n",
       "      <td>21.0</td>\n",
       "      <td>0.20</td>\n",
       "      <td>B</td>\n",
       "      <td>C</td>\n",
       "      <td>B</td>\n",
       "      <td>CBB</td>\n",
       "    </tr>\n",
       "    <tr>\n",
       "      <th>7</th>\n",
       "      <td>ЛОСК</td>\n",
       "      <td>6455.48</td>\n",
       "      <td>58.0</td>\n",
       "      <td>0.18</td>\n",
       "      <td>A</td>\n",
       "      <td>A</td>\n",
       "      <td>B</td>\n",
       "      <td>AAB</td>\n",
       "    </tr>\n",
       "    <tr>\n",
       "      <th>11</th>\n",
       "      <td>BIO MIO</td>\n",
       "      <td>7589.07</td>\n",
       "      <td>20.0</td>\n",
       "      <td>0.17</td>\n",
       "      <td>B</td>\n",
       "      <td>A</td>\n",
       "      <td>B</td>\n",
       "      <td>ABB</td>\n",
       "    </tr>\n",
       "    <tr>\n",
       "      <th>17</th>\n",
       "      <td>МЕУЛЕ(MEULE)</td>\n",
       "      <td>1310.00</td>\n",
       "      <td>2.0</td>\n",
       "      <td>0.13</td>\n",
       "      <td>C</td>\n",
       "      <td>C</td>\n",
       "      <td>C</td>\n",
       "      <td>CCC</td>\n",
       "    </tr>\n",
       "    <tr>\n",
       "      <th>16</th>\n",
       "      <td>MEINE LIEBE</td>\n",
       "      <td>3312.03</td>\n",
       "      <td>10.0</td>\n",
       "      <td>0.11</td>\n",
       "      <td>C</td>\n",
       "      <td>B</td>\n",
       "      <td>C</td>\n",
       "      <td>BCC</td>\n",
       "    </tr>\n",
       "  </tbody>\n",
       "</table>\n",
       "</div>"
      ],
      "text/plain": [
       "            name   revenue  amount  profit abc_amount abc_revenue abc_profit  \\\n",
       "4           АИСТ   1763.27    40.0    0.30          B           C          A   \n",
       "5       АИСТЕНОК    647.17    12.0    0.26          C           C          A   \n",
       "6           ДЕНИ    781.90    18.0    0.26          C           C          A   \n",
       "1          BIMAX  11030.81    86.0    0.25          A           A          A   \n",
       "13         ПЕМОС   4836.57    69.0    0.25          A           B          A   \n",
       "15         САРМА   1221.46    14.0    0.25          C           C          A   \n",
       "2          DOSIA   7587.34    91.0    0.25          A           A          A   \n",
       "12    СПАРК ДРАМ   5628.30    19.0    0.24          B           A          A   \n",
       "8            МИФ  14162.25   135.0    0.23          A           A          A   \n",
       "10  УШАСТЫЙ НЯНЬ  14305.22    76.0    0.23          A           A          A   \n",
       "3           TIDE   5626.73    48.0    0.23          A           A          A   \n",
       "9         ПЕРСИЛ   4208.71    34.0    0.21          B           B          A   \n",
       "0          ARIEL   5344.86    43.0    0.21          A           B          B   \n",
       "14        КАПЕЛЬ    622.38    21.0    0.20          B           C          B   \n",
       "7           ЛОСК   6455.48    58.0    0.18          A           A          B   \n",
       "11       BIO MIO   7589.07    20.0    0.17          B           A          B   \n",
       "17  МЕУЛЕ(MEULE)   1310.00     2.0    0.13          C           C          C   \n",
       "16   MEINE LIEBE   3312.03    10.0    0.11          C           B          C   \n",
       "\n",
       "   final_group  \n",
       "4          CBA  \n",
       "5          CCA  \n",
       "6          CCA  \n",
       "1          AAA  \n",
       "13         BAA  \n",
       "15         CCA  \n",
       "2          AAA  \n",
       "12         ABA  \n",
       "8          AAA  \n",
       "10         AAA  \n",
       "3          AAA  \n",
       "9          BBA  \n",
       "0          BAB  \n",
       "14         CBB  \n",
       "7          AAB  \n",
       "11         ABB  \n",
       "17         CCC  \n",
       "16         BCC  "
      ]
     },
     "execution_count": 37,
     "metadata": {},
     "output_type": "execute_result"
    }
   ],
   "source": [
    "groupped_df [['name', 'revenue', 'amount', 'profit', 'abc_amount', 'abc_revenue', 'abc_profit', 'final_group']]"
   ]
  },
  {
   "cell_type": "markdown",
   "metadata": {
    "id": "ytVYmHUMfjW9"
   },
   "source": [
    "## Проводим анализ групп"
   ]
  },
  {
   "cell_type": "code",
   "execution_count": 39,
   "metadata": {
    "id": "AQIOi2QXVW44"
   },
   "outputs": [],
   "source": [
    "# Формируем итоговые наборы групп, собрав А-Б-С в одну колонку (для группировки)\n",
    "groupped_df['final_group'] = groupped_df['abc_revenue'] + groupped_df['abc_amount'] + groupped_df['abc_profit']\n",
    "\n",
    "# Группируем по созданной колонке final_group\n",
    "groups = groupped_df.groupby('final_group')['final_group'].agg({'count'}).reset_index()\n",
    "\n",
    "# Считем проценты от общего кол-ва для каждой группы\n",
    "groups['perc'] = groups['count'] / sum(groups['count'])"
   ]
  },
  {
   "cell_type": "markdown",
   "metadata": {},
   "source": [
    "Смотрим что получилось"
   ]
  },
  {
   "cell_type": "code",
   "execution_count": 20,
   "metadata": {
    "colab": {
     "base_uri": "https://localhost:8080/",
     "height": 426
    },
    "id": "IzpB9Mg9VgXH",
    "outputId": "ee8ed70a-d7b9-4f5c-c957-30b8505c1fd7"
   },
   "outputs": [
    {
     "data": {
      "text/html": [
       "<div>\n",
       "<style scoped>\n",
       "    .dataframe tbody tr th:only-of-type {\n",
       "        vertical-align: middle;\n",
       "    }\n",
       "\n",
       "    .dataframe tbody tr th {\n",
       "        vertical-align: top;\n",
       "    }\n",
       "\n",
       "    .dataframe thead th {\n",
       "        text-align: right;\n",
       "    }\n",
       "</style>\n",
       "<table border=\"1\" class=\"dataframe\">\n",
       "  <thead>\n",
       "    <tr style=\"text-align: right;\">\n",
       "      <th></th>\n",
       "      <th>final_group</th>\n",
       "      <th>count</th>\n",
       "      <th>perc</th>\n",
       "    </tr>\n",
       "  </thead>\n",
       "  <tbody>\n",
       "    <tr>\n",
       "      <th>0</th>\n",
       "      <td>AAA</td>\n",
       "      <td>5</td>\n",
       "      <td>0.277778</td>\n",
       "    </tr>\n",
       "    <tr>\n",
       "      <th>1</th>\n",
       "      <td>AAB</td>\n",
       "      <td>1</td>\n",
       "      <td>0.055556</td>\n",
       "    </tr>\n",
       "    <tr>\n",
       "      <th>2</th>\n",
       "      <td>ABA</td>\n",
       "      <td>1</td>\n",
       "      <td>0.055556</td>\n",
       "    </tr>\n",
       "    <tr>\n",
       "      <th>3</th>\n",
       "      <td>ABB</td>\n",
       "      <td>1</td>\n",
       "      <td>0.055556</td>\n",
       "    </tr>\n",
       "    <tr>\n",
       "      <th>4</th>\n",
       "      <td>BAA</td>\n",
       "      <td>1</td>\n",
       "      <td>0.055556</td>\n",
       "    </tr>\n",
       "    <tr>\n",
       "      <th>5</th>\n",
       "      <td>BAB</td>\n",
       "      <td>1</td>\n",
       "      <td>0.055556</td>\n",
       "    </tr>\n",
       "    <tr>\n",
       "      <th>6</th>\n",
       "      <td>BBA</td>\n",
       "      <td>1</td>\n",
       "      <td>0.055556</td>\n",
       "    </tr>\n",
       "    <tr>\n",
       "      <th>7</th>\n",
       "      <td>BCC</td>\n",
       "      <td>1</td>\n",
       "      <td>0.055556</td>\n",
       "    </tr>\n",
       "    <tr>\n",
       "      <th>8</th>\n",
       "      <td>CBA</td>\n",
       "      <td>1</td>\n",
       "      <td>0.055556</td>\n",
       "    </tr>\n",
       "    <tr>\n",
       "      <th>9</th>\n",
       "      <td>CBB</td>\n",
       "      <td>1</td>\n",
       "      <td>0.055556</td>\n",
       "    </tr>\n",
       "    <tr>\n",
       "      <th>10</th>\n",
       "      <td>CCA</td>\n",
       "      <td>3</td>\n",
       "      <td>0.166667</td>\n",
       "    </tr>\n",
       "    <tr>\n",
       "      <th>11</th>\n",
       "      <td>CCC</td>\n",
       "      <td>1</td>\n",
       "      <td>0.055556</td>\n",
       "    </tr>\n",
       "  </tbody>\n",
       "</table>\n",
       "</div>"
      ],
      "text/plain": [
       "   final_group  count      perc\n",
       "0          AAA      5  0.277778\n",
       "1          AAB      1  0.055556\n",
       "2          ABA      1  0.055556\n",
       "3          ABB      1  0.055556\n",
       "4          BAA      1  0.055556\n",
       "5          BAB      1  0.055556\n",
       "6          BBA      1  0.055556\n",
       "7          BCC      1  0.055556\n",
       "8          CBA      1  0.055556\n",
       "9          CBB      1  0.055556\n",
       "10         CCA      3  0.166667\n",
       "11         CCC      1  0.055556"
      ]
     },
     "execution_count": 20,
     "metadata": {},
     "output_type": "execute_result"
    }
   ],
   "source": [
    "groups"
   ]
  },
  {
   "cell_type": "code",
   "execution_count": null,
   "metadata": {},
   "outputs": [],
   "source": [
    "Создадим диаграмму treemap"
   ]
  },
  {
   "cell_type": "code",
   "execution_count": 21,
   "metadata": {
    "colab": {
     "base_uri": "https://localhost:8080/",
     "height": 542
    },
    "id": "9P1pB_mmU1tu",
    "outputId": "bdb5df4a-bfca-4310-911d-74e9361aa8a8"
   },
   "outputs": [
    {
     "data": {
      "application/vnd.plotly.v1+json": {
       "config": {
        "plotlyServerURL": "https://plot.ly"
       },
       "data": [
        {
         "branchvalues": "total",
         "domain": {
          "x": [
           0,
           1
          ],
          "y": [
           0,
           1
          ]
         },
         "hovertemplate": "labels=%{label}<br>perc=%{value}<br>parent=%{parent}<br>id=%{id}<extra></extra>",
         "ids": [
          "AAA",
          "AAB",
          "ABA",
          "ABB",
          "BAA",
          "BAB",
          "BBA",
          "BCC",
          "CBA",
          "CBB",
          "CCA",
          "CCC"
         ],
         "labels": [
          "AAA",
          "AAB",
          "ABA",
          "ABB",
          "BAA",
          "BAB",
          "BBA",
          "BCC",
          "CBA",
          "CBB",
          "CCA",
          "CCC"
         ],
         "name": "",
         "parents": [
          "",
          "",
          "",
          "",
          "",
          "",
          "",
          "",
          "",
          "",
          "",
          ""
         ],
         "type": "treemap",
         "values": [
          0.2777777777777778,
          0.05555555555555555,
          0.05555555555555555,
          0.05555555555555555,
          0.05555555555555555,
          0.05555555555555555,
          0.05555555555555555,
          0.05555555555555555,
          0.05555555555555555,
          0.05555555555555555,
          0.16666666666666666,
          0.05555555555555555
         ]
        }
       ],
       "layout": {
        "autosize": true,
        "legend": {
         "tracegroupgap": 0
        },
        "margin": {
         "t": 60
        },
        "template": {
         "data": {
          "bar": [
           {
            "error_x": {
             "color": "#2a3f5f"
            },
            "error_y": {
             "color": "#2a3f5f"
            },
            "marker": {
             "line": {
              "color": "#E5ECF6",
              "width": 0.5
             },
             "pattern": {
              "fillmode": "overlay",
              "size": 10,
              "solidity": 0.2
             }
            },
            "type": "bar"
           }
          ],
          "barpolar": [
           {
            "marker": {
             "line": {
              "color": "#E5ECF6",
              "width": 0.5
             },
             "pattern": {
              "fillmode": "overlay",
              "size": 10,
              "solidity": 0.2
             }
            },
            "type": "barpolar"
           }
          ],
          "carpet": [
           {
            "aaxis": {
             "endlinecolor": "#2a3f5f",
             "gridcolor": "white",
             "linecolor": "white",
             "minorgridcolor": "white",
             "startlinecolor": "#2a3f5f"
            },
            "baxis": {
             "endlinecolor": "#2a3f5f",
             "gridcolor": "white",
             "linecolor": "white",
             "minorgridcolor": "white",
             "startlinecolor": "#2a3f5f"
            },
            "type": "carpet"
           }
          ],
          "choropleth": [
           {
            "colorbar": {
             "outlinewidth": 0,
             "ticks": ""
            },
            "type": "choropleth"
           }
          ],
          "contour": [
           {
            "colorbar": {
             "outlinewidth": 0,
             "ticks": ""
            },
            "colorscale": [
             [
              0,
              "#0d0887"
             ],
             [
              0.1111111111111111,
              "#46039f"
             ],
             [
              0.2222222222222222,
              "#7201a8"
             ],
             [
              0.3333333333333333,
              "#9c179e"
             ],
             [
              0.4444444444444444,
              "#bd3786"
             ],
             [
              0.5555555555555556,
              "#d8576b"
             ],
             [
              0.6666666666666666,
              "#ed7953"
             ],
             [
              0.7777777777777778,
              "#fb9f3a"
             ],
             [
              0.8888888888888888,
              "#fdca26"
             ],
             [
              1,
              "#f0f921"
             ]
            ],
            "type": "contour"
           }
          ],
          "contourcarpet": [
           {
            "colorbar": {
             "outlinewidth": 0,
             "ticks": ""
            },
            "type": "contourcarpet"
           }
          ],
          "heatmap": [
           {
            "colorbar": {
             "outlinewidth": 0,
             "ticks": ""
            },
            "colorscale": [
             [
              0,
              "#0d0887"
             ],
             [
              0.1111111111111111,
              "#46039f"
             ],
             [
              0.2222222222222222,
              "#7201a8"
             ],
             [
              0.3333333333333333,
              "#9c179e"
             ],
             [
              0.4444444444444444,
              "#bd3786"
             ],
             [
              0.5555555555555556,
              "#d8576b"
             ],
             [
              0.6666666666666666,
              "#ed7953"
             ],
             [
              0.7777777777777778,
              "#fb9f3a"
             ],
             [
              0.8888888888888888,
              "#fdca26"
             ],
             [
              1,
              "#f0f921"
             ]
            ],
            "type": "heatmap"
           }
          ],
          "heatmapgl": [
           {
            "colorbar": {
             "outlinewidth": 0,
             "ticks": ""
            },
            "colorscale": [
             [
              0,
              "#0d0887"
             ],
             [
              0.1111111111111111,
              "#46039f"
             ],
             [
              0.2222222222222222,
              "#7201a8"
             ],
             [
              0.3333333333333333,
              "#9c179e"
             ],
             [
              0.4444444444444444,
              "#bd3786"
             ],
             [
              0.5555555555555556,
              "#d8576b"
             ],
             [
              0.6666666666666666,
              "#ed7953"
             ],
             [
              0.7777777777777778,
              "#fb9f3a"
             ],
             [
              0.8888888888888888,
              "#fdca26"
             ],
             [
              1,
              "#f0f921"
             ]
            ],
            "type": "heatmapgl"
           }
          ],
          "histogram": [
           {
            "marker": {
             "pattern": {
              "fillmode": "overlay",
              "size": 10,
              "solidity": 0.2
             }
            },
            "type": "histogram"
           }
          ],
          "histogram2d": [
           {
            "colorbar": {
             "outlinewidth": 0,
             "ticks": ""
            },
            "colorscale": [
             [
              0,
              "#0d0887"
             ],
             [
              0.1111111111111111,
              "#46039f"
             ],
             [
              0.2222222222222222,
              "#7201a8"
             ],
             [
              0.3333333333333333,
              "#9c179e"
             ],
             [
              0.4444444444444444,
              "#bd3786"
             ],
             [
              0.5555555555555556,
              "#d8576b"
             ],
             [
              0.6666666666666666,
              "#ed7953"
             ],
             [
              0.7777777777777778,
              "#fb9f3a"
             ],
             [
              0.8888888888888888,
              "#fdca26"
             ],
             [
              1,
              "#f0f921"
             ]
            ],
            "type": "histogram2d"
           }
          ],
          "histogram2dcontour": [
           {
            "colorbar": {
             "outlinewidth": 0,
             "ticks": ""
            },
            "colorscale": [
             [
              0,
              "#0d0887"
             ],
             [
              0.1111111111111111,
              "#46039f"
             ],
             [
              0.2222222222222222,
              "#7201a8"
             ],
             [
              0.3333333333333333,
              "#9c179e"
             ],
             [
              0.4444444444444444,
              "#bd3786"
             ],
             [
              0.5555555555555556,
              "#d8576b"
             ],
             [
              0.6666666666666666,
              "#ed7953"
             ],
             [
              0.7777777777777778,
              "#fb9f3a"
             ],
             [
              0.8888888888888888,
              "#fdca26"
             ],
             [
              1,
              "#f0f921"
             ]
            ],
            "type": "histogram2dcontour"
           }
          ],
          "mesh3d": [
           {
            "colorbar": {
             "outlinewidth": 0,
             "ticks": ""
            },
            "type": "mesh3d"
           }
          ],
          "parcoords": [
           {
            "line": {
             "colorbar": {
              "outlinewidth": 0,
              "ticks": ""
             }
            },
            "type": "parcoords"
           }
          ],
          "pie": [
           {
            "automargin": true,
            "type": "pie"
           }
          ],
          "scatter": [
           {
            "fillpattern": {
             "fillmode": "overlay",
             "size": 10,
             "solidity": 0.2
            },
            "type": "scatter"
           }
          ],
          "scatter3d": [
           {
            "line": {
             "colorbar": {
              "outlinewidth": 0,
              "ticks": ""
             }
            },
            "marker": {
             "colorbar": {
              "outlinewidth": 0,
              "ticks": ""
             }
            },
            "type": "scatter3d"
           }
          ],
          "scattercarpet": [
           {
            "marker": {
             "colorbar": {
              "outlinewidth": 0,
              "ticks": ""
             }
            },
            "type": "scattercarpet"
           }
          ],
          "scattergeo": [
           {
            "marker": {
             "colorbar": {
              "outlinewidth": 0,
              "ticks": ""
             }
            },
            "type": "scattergeo"
           }
          ],
          "scattergl": [
           {
            "marker": {
             "colorbar": {
              "outlinewidth": 0,
              "ticks": ""
             }
            },
            "type": "scattergl"
           }
          ],
          "scattermapbox": [
           {
            "marker": {
             "colorbar": {
              "outlinewidth": 0,
              "ticks": ""
             }
            },
            "type": "scattermapbox"
           }
          ],
          "scatterpolar": [
           {
            "marker": {
             "colorbar": {
              "outlinewidth": 0,
              "ticks": ""
             }
            },
            "type": "scatterpolar"
           }
          ],
          "scatterpolargl": [
           {
            "marker": {
             "colorbar": {
              "outlinewidth": 0,
              "ticks": ""
             }
            },
            "type": "scatterpolargl"
           }
          ],
          "scatterternary": [
           {
            "marker": {
             "colorbar": {
              "outlinewidth": 0,
              "ticks": ""
             }
            },
            "type": "scatterternary"
           }
          ],
          "surface": [
           {
            "colorbar": {
             "outlinewidth": 0,
             "ticks": ""
            },
            "colorscale": [
             [
              0,
              "#0d0887"
             ],
             [
              0.1111111111111111,
              "#46039f"
             ],
             [
              0.2222222222222222,
              "#7201a8"
             ],
             [
              0.3333333333333333,
              "#9c179e"
             ],
             [
              0.4444444444444444,
              "#bd3786"
             ],
             [
              0.5555555555555556,
              "#d8576b"
             ],
             [
              0.6666666666666666,
              "#ed7953"
             ],
             [
              0.7777777777777778,
              "#fb9f3a"
             ],
             [
              0.8888888888888888,
              "#fdca26"
             ],
             [
              1,
              "#f0f921"
             ]
            ],
            "type": "surface"
           }
          ],
          "table": [
           {
            "cells": {
             "fill": {
              "color": "#EBF0F8"
             },
             "line": {
              "color": "white"
             }
            },
            "header": {
             "fill": {
              "color": "#C8D4E3"
             },
             "line": {
              "color": "white"
             }
            },
            "type": "table"
           }
          ]
         },
         "layout": {
          "annotationdefaults": {
           "arrowcolor": "#2a3f5f",
           "arrowhead": 0,
           "arrowwidth": 1
          },
          "autotypenumbers": "strict",
          "coloraxis": {
           "colorbar": {
            "outlinewidth": 0,
            "ticks": ""
           }
          },
          "colorscale": {
           "diverging": [
            [
             0,
             "#8e0152"
            ],
            [
             0.1,
             "#c51b7d"
            ],
            [
             0.2,
             "#de77ae"
            ],
            [
             0.3,
             "#f1b6da"
            ],
            [
             0.4,
             "#fde0ef"
            ],
            [
             0.5,
             "#f7f7f7"
            ],
            [
             0.6,
             "#e6f5d0"
            ],
            [
             0.7,
             "#b8e186"
            ],
            [
             0.8,
             "#7fbc41"
            ],
            [
             0.9,
             "#4d9221"
            ],
            [
             1,
             "#276419"
            ]
           ],
           "sequential": [
            [
             0,
             "#0d0887"
            ],
            [
             0.1111111111111111,
             "#46039f"
            ],
            [
             0.2222222222222222,
             "#7201a8"
            ],
            [
             0.3333333333333333,
             "#9c179e"
            ],
            [
             0.4444444444444444,
             "#bd3786"
            ],
            [
             0.5555555555555556,
             "#d8576b"
            ],
            [
             0.6666666666666666,
             "#ed7953"
            ],
            [
             0.7777777777777778,
             "#fb9f3a"
            ],
            [
             0.8888888888888888,
             "#fdca26"
            ],
            [
             1,
             "#f0f921"
            ]
           ],
           "sequentialminus": [
            [
             0,
             "#0d0887"
            ],
            [
             0.1111111111111111,
             "#46039f"
            ],
            [
             0.2222222222222222,
             "#7201a8"
            ],
            [
             0.3333333333333333,
             "#9c179e"
            ],
            [
             0.4444444444444444,
             "#bd3786"
            ],
            [
             0.5555555555555556,
             "#d8576b"
            ],
            [
             0.6666666666666666,
             "#ed7953"
            ],
            [
             0.7777777777777778,
             "#fb9f3a"
            ],
            [
             0.8888888888888888,
             "#fdca26"
            ],
            [
             1,
             "#f0f921"
            ]
           ]
          },
          "colorway": [
           "#636efa",
           "#EF553B",
           "#00cc96",
           "#ab63fa",
           "#FFA15A",
           "#19d3f3",
           "#FF6692",
           "#B6E880",
           "#FF97FF",
           "#FECB52"
          ],
          "font": {
           "color": "#2a3f5f"
          },
          "geo": {
           "bgcolor": "white",
           "lakecolor": "white",
           "landcolor": "#E5ECF6",
           "showlakes": true,
           "showland": true,
           "subunitcolor": "white"
          },
          "hoverlabel": {
           "align": "left"
          },
          "hovermode": "closest",
          "mapbox": {
           "style": "light"
          },
          "paper_bgcolor": "white",
          "plot_bgcolor": "#E5ECF6",
          "polar": {
           "angularaxis": {
            "gridcolor": "white",
            "linecolor": "white",
            "ticks": ""
           },
           "bgcolor": "#E5ECF6",
           "radialaxis": {
            "gridcolor": "white",
            "linecolor": "white",
            "ticks": ""
           }
          },
          "scene": {
           "xaxis": {
            "backgroundcolor": "#E5ECF6",
            "gridcolor": "white",
            "gridwidth": 2,
            "linecolor": "white",
            "showbackground": true,
            "ticks": "",
            "zerolinecolor": "white"
           },
           "yaxis": {
            "backgroundcolor": "#E5ECF6",
            "gridcolor": "white",
            "gridwidth": 2,
            "linecolor": "white",
            "showbackground": true,
            "ticks": "",
            "zerolinecolor": "white"
           },
           "zaxis": {
            "backgroundcolor": "#E5ECF6",
            "gridcolor": "white",
            "gridwidth": 2,
            "linecolor": "white",
            "showbackground": true,
            "ticks": "",
            "zerolinecolor": "white"
           }
          },
          "shapedefaults": {
           "line": {
            "color": "#2a3f5f"
           }
          },
          "ternary": {
           "aaxis": {
            "gridcolor": "white",
            "linecolor": "white",
            "ticks": ""
           },
           "baxis": {
            "gridcolor": "white",
            "linecolor": "white",
            "ticks": ""
           },
           "bgcolor": "#E5ECF6",
           "caxis": {
            "gridcolor": "white",
            "linecolor": "white",
            "ticks": ""
           }
          },
          "title": {
           "x": 0.05
          },
          "xaxis": {
           "automargin": true,
           "gridcolor": "white",
           "linecolor": "white",
           "ticks": "",
           "title": {
            "standoff": 15
           },
           "zerolinecolor": "white",
           "zerolinewidth": 2
          },
          "yaxis": {
           "automargin": true,
           "gridcolor": "white",
           "linecolor": "white",
           "ticks": "",
           "title": {
            "standoff": 15
           },
           "zerolinecolor": "white",
           "zerolinewidth": 2
          }
         }
        }
       }
      },
      "image/png": "[encoded data removed]",
      "text/html": [
       "<div>                            <div id=\"795283b1-9658-4ee3-bf84-21a4363ea2e2\" class=\"plotly-graph-div\" style=\"height:525px; width:100%;\"></div>            <script type=\"text/javascript\">                require([\"plotly\"], function(Plotly) {                    window.PLOTLYENV=window.PLOTLYENV || {};                                    if (document.getElementById(\"795283b1-9658-4ee3-bf84-21a4363ea2e2\")) {                    Plotly.newPlot(                        \"795283b1-9658-4ee3-bf84-21a4363ea2e2\",                        [{\"branchvalues\":\"total\",\"domain\":{\"x\":[0.0,1.0],\"y\":[0.0,1.0]},\"hovertemplate\":\"labels=%{label}<br>perc=%{value}<br>parent=%{parent}<br>id=%{id}<extra></extra>\",\"ids\":[\"AAA\",\"AAB\",\"ABA\",\"ABB\",\"BAA\",\"BAB\",\"BBA\",\"BCC\",\"CBA\",\"CBB\",\"CCA\",\"CCC\"],\"labels\":[\"AAA\",\"AAB\",\"ABA\",\"ABB\",\"BAA\",\"BAB\",\"BBA\",\"BCC\",\"CBA\",\"CBB\",\"CCA\",\"CCC\"],\"name\":\"\",\"parents\":[\"\",\"\",\"\",\"\",\"\",\"\",\"\",\"\",\"\",\"\",\"\",\"\"],\"values\":[0.2777777777777778,0.05555555555555555,0.05555555555555555,0.05555555555555555,0.05555555555555555,0.05555555555555555,0.05555555555555555,0.05555555555555555,0.05555555555555555,0.05555555555555555,0.16666666666666666,0.05555555555555555],\"type\":\"treemap\"}],                        {\"template\":{\"data\":{\"histogram2dcontour\":[{\"type\":\"histogram2dcontour\",\"colorbar\":{\"outlinewidth\":0,\"ticks\":\"\"},\"colorscale\":[[0.0,\"#0d0887\"],[0.1111111111111111,\"#46039f\"],[0.2222222222222222,\"#7201a8\"],[0.3333333333333333,\"#9c179e\"],[0.4444444444444444,\"#bd3786\"],[0.5555555555555556,\"#d8576b\"],[0.6666666666666666,\"#ed7953\"],[0.7777777777777778,\"#fb9f3a\"],[0.8888888888888888,\"#fdca26\"],[1.0,\"#f0f921\"]]}],\"choropleth\":[{\"type\":\"choropleth\",\"colorbar\":{\"outlinewidth\":0,\"ticks\":\"\"}}],\"histogram2d\":[{\"type\":\"histogram2d\",\"colorbar\":{\"outlinewidth\":0,\"ticks\":\"\"},\"colorscale\":[[0.0,\"#0d0887\"],[0.1111111111111111,\"#46039f\"],[0.2222222222222222,\"#7201a8\"],[0.3333333333333333,\"#9c179e\"],[0.4444444444444444,\"#bd3786\"],[0.5555555555555556,\"#d8576b\"],[0.6666666666666666,\"#ed7953\"],[0.7777777777777778,\"#fb9f3a\"],[0.8888888888888888,\"#fdca26\"],[1.0,\"#f0f921\"]]}],\"heatmap\":[{\"type\":\"heatmap\",\"colorbar\":{\"outlinewidth\":0,\"ticks\":\"\"},\"colorscale\":[[0.0,\"#0d0887\"],[0.1111111111111111,\"#46039f\"],[0.2222222222222222,\"#7201a8\"],[0.3333333333333333,\"#9c179e\"],[0.4444444444444444,\"#bd3786\"],[0.5555555555555556,\"#d8576b\"],[0.6666666666666666,\"#ed7953\"],[0.7777777777777778,\"#fb9f3a\"],[0.8888888888888888,\"#fdca26\"],[1.0,\"#f0f921\"]]}],\"heatmapgl\":[{\"type\":\"heatmapgl\",\"colorbar\":{\"outlinewidth\":0,\"ticks\":\"\"},\"colorscale\":[[0.0,\"#0d0887\"],[0.1111111111111111,\"#46039f\"],[0.2222222222222222,\"#7201a8\"],[0.3333333333333333,\"#9c179e\"],[0.4444444444444444,\"#bd3786\"],[0.5555555555555556,\"#d8576b\"],[0.6666666666666666,\"#ed7953\"],[0.7777777777777778,\"#fb9f3a\"],[0.8888888888888888,\"#fdca26\"],[1.0,\"#f0f921\"]]}],\"contourcarpet\":[{\"type\":\"contourcarpet\",\"colorbar\":{\"outlinewidth\":0,\"ticks\":\"\"}}],\"contour\":[{\"type\":\"contour\",\"colorbar\":{\"outlinewidth\":0,\"ticks\":\"\"},\"colorscale\":[[0.0,\"#0d0887\"],[0.1111111111111111,\"#46039f\"],[0.2222222222222222,\"#7201a8\"],[0.3333333333333333,\"#9c179e\"],[0.4444444444444444,\"#bd3786\"],[0.5555555555555556,\"#d8576b\"],[0.6666666666666666,\"#ed7953\"],[0.7777777777777778,\"#fb9f3a\"],[0.8888888888888888,\"#fdca26\"],[1.0,\"#f0f921\"]]}],\"surface\":[{\"type\":\"surface\",\"colorbar\":{\"outlinewidth\":0,\"ticks\":\"\"},\"colorscale\":[[0.0,\"#0d0887\"],[0.1111111111111111,\"#46039f\"],[0.2222222222222222,\"#7201a8\"],[0.3333333333333333,\"#9c179e\"],[0.4444444444444444,\"#bd3786\"],[0.5555555555555556,\"#d8576b\"],[0.6666666666666666,\"#ed7953\"],[0.7777777777777778,\"#fb9f3a\"],[0.8888888888888888,\"#fdca26\"],[1.0,\"#f0f921\"]]}],\"mesh3d\":[{\"type\":\"mesh3d\",\"colorbar\":{\"outlinewidth\":0,\"ticks\":\"\"}}],\"scatter\":[{\"fillpattern\":{\"fillmode\":\"overlay\",\"size\":10,\"solidity\":0.2},\"type\":\"scatter\"}],\"parcoords\":[{\"type\":\"parcoords\",\"line\":{\"colorbar\":{\"outlinewidth\":0,\"ticks\":\"\"}}}],\"scatterpolargl\":[{\"type\":\"scatterpolargl\",\"marker\":{\"colorbar\":{\"outlinewidth\":0,\"ticks\":\"\"}}}],\"bar\":[{\"error_x\":{\"color\":\"#2a3f5f\"},\"error_y\":{\"color\":\"#2a3f5f\"},\"marker\":{\"line\":{\"color\":\"#E5ECF6\",\"width\":0.5},\"pattern\":{\"fillmode\":\"overlay\",\"size\":10,\"solidity\":0.2}},\"type\":\"bar\"}],\"scattergeo\":[{\"type\":\"scattergeo\",\"marker\":{\"colorbar\":{\"outlinewidth\":0,\"ticks\":\"\"}}}],\"scatterpolar\":[{\"type\":\"scatterpolar\",\"marker\":{\"colorbar\":{\"outlinewidth\":0,\"ticks\":\"\"}}}],\"histogram\":[{\"marker\":{\"pattern\":{\"fillmode\":\"overlay\",\"size\":10,\"solidity\":0.2}},\"type\":\"histogram\"}],\"scattergl\":[{\"type\":\"scattergl\",\"marker\":{\"colorbar\":{\"outlinewidth\":0,\"ticks\":\"\"}}}],\"scatter3d\":[{\"type\":\"scatter3d\",\"line\":{\"colorbar\":{\"outlinewidth\":0,\"ticks\":\"\"}},\"marker\":{\"colorbar\":{\"outlinewidth\":0,\"ticks\":\"\"}}}],\"scattermapbox\":[{\"type\":\"scattermapbox\",\"marker\":{\"colorbar\":{\"outlinewidth\":0,\"ticks\":\"\"}}}],\"scatterternary\":[{\"type\":\"scatterternary\",\"marker\":{\"colorbar\":{\"outlinewidth\":0,\"ticks\":\"\"}}}],\"scattercarpet\":[{\"type\":\"scattercarpet\",\"marker\":{\"colorbar\":{\"outlinewidth\":0,\"ticks\":\"\"}}}],\"carpet\":[{\"aaxis\":{\"endlinecolor\":\"#2a3f5f\",\"gridcolor\":\"white\",\"linecolor\":\"white\",\"minorgridcolor\":\"white\",\"startlinecolor\":\"#2a3f5f\"},\"baxis\":{\"endlinecolor\":\"#2a3f5f\",\"gridcolor\":\"white\",\"linecolor\":\"white\",\"minorgridcolor\":\"white\",\"startlinecolor\":\"#2a3f5f\"},\"type\":\"carpet\"}],\"table\":[{\"cells\":{\"fill\":{\"color\":\"#EBF0F8\"},\"line\":{\"color\":\"white\"}},\"header\":{\"fill\":{\"color\":\"#C8D4E3\"},\"line\":{\"color\":\"white\"}},\"type\":\"table\"}],\"barpolar\":[{\"marker\":{\"line\":{\"color\":\"#E5ECF6\",\"width\":0.5},\"pattern\":{\"fillmode\":\"overlay\",\"size\":10,\"solidity\":0.2}},\"type\":\"barpolar\"}],\"pie\":[{\"automargin\":true,\"type\":\"pie\"}]},\"layout\":{\"autotypenumbers\":\"strict\",\"colorway\":[\"#636efa\",\"#EF553B\",\"#00cc96\",\"#ab63fa\",\"#FFA15A\",\"#19d3f3\",\"#FF6692\",\"#B6E880\",\"#FF97FF\",\"#FECB52\"],\"font\":{\"color\":\"#2a3f5f\"},\"hovermode\":\"closest\",\"hoverlabel\":{\"align\":\"left\"},\"paper_bgcolor\":\"white\",\"plot_bgcolor\":\"#E5ECF6\",\"polar\":{\"bgcolor\":\"#E5ECF6\",\"angularaxis\":{\"gridcolor\":\"white\",\"linecolor\":\"white\",\"ticks\":\"\"},\"radialaxis\":{\"gridcolor\":\"white\",\"linecolor\":\"white\",\"ticks\":\"\"}},\"ternary\":{\"bgcolor\":\"#E5ECF6\",\"aaxis\":{\"gridcolor\":\"white\",\"linecolor\":\"white\",\"ticks\":\"\"},\"baxis\":{\"gridcolor\":\"white\",\"linecolor\":\"white\",\"ticks\":\"\"},\"caxis\":{\"gridcolor\":\"white\",\"linecolor\":\"white\",\"ticks\":\"\"}},\"coloraxis\":{\"colorbar\":{\"outlinewidth\":0,\"ticks\":\"\"}},\"colorscale\":{\"sequential\":[[0.0,\"#0d0887\"],[0.1111111111111111,\"#46039f\"],[0.2222222222222222,\"#7201a8\"],[0.3333333333333333,\"#9c179e\"],[0.4444444444444444,\"#bd3786\"],[0.5555555555555556,\"#d8576b\"],[0.6666666666666666,\"#ed7953\"],[0.7777777777777778,\"#fb9f3a\"],[0.8888888888888888,\"#fdca26\"],[1.0,\"#f0f921\"]],\"sequentialminus\":[[0.0,\"#0d0887\"],[0.1111111111111111,\"#46039f\"],[0.2222222222222222,\"#7201a8\"],[0.3333333333333333,\"#9c179e\"],[0.4444444444444444,\"#bd3786\"],[0.5555555555555556,\"#d8576b\"],[0.6666666666666666,\"#ed7953\"],[0.7777777777777778,\"#fb9f3a\"],[0.8888888888888888,\"#fdca26\"],[1.0,\"#f0f921\"]],\"diverging\":[[0,\"#8e0152\"],[0.1,\"#c51b7d\"],[0.2,\"#de77ae\"],[0.3,\"#f1b6da\"],[0.4,\"#fde0ef\"],[0.5,\"#f7f7f7\"],[0.6,\"#e6f5d0\"],[0.7,\"#b8e186\"],[0.8,\"#7fbc41\"],[0.9,\"#4d9221\"],[1,\"#276419\"]]},\"xaxis\":{\"gridcolor\":\"white\",\"linecolor\":\"white\",\"ticks\":\"\",\"title\":{\"standoff\":15},\"zerolinecolor\":\"white\",\"automargin\":true,\"zerolinewidth\":2},\"yaxis\":{\"gridcolor\":\"white\",\"linecolor\":\"white\",\"ticks\":\"\",\"title\":{\"standoff\":15},\"zerolinecolor\":\"white\",\"automargin\":true,\"zerolinewidth\":2},\"scene\":{\"xaxis\":{\"backgroundcolor\":\"#E5ECF6\",\"gridcolor\":\"white\",\"linecolor\":\"white\",\"showbackground\":true,\"ticks\":\"\",\"zerolinecolor\":\"white\",\"gridwidth\":2},\"yaxis\":{\"backgroundcolor\":\"#E5ECF6\",\"gridcolor\":\"white\",\"linecolor\":\"white\",\"showbackground\":true,\"ticks\":\"\",\"zerolinecolor\":\"white\",\"gridwidth\":2},\"zaxis\":{\"backgroundcolor\":\"#E5ECF6\",\"gridcolor\":\"white\",\"linecolor\":\"white\",\"showbackground\":true,\"ticks\":\"\",\"zerolinecolor\":\"white\",\"gridwidth\":2}},\"shapedefaults\":{\"line\":{\"color\":\"#2a3f5f\"}},\"annotationdefaults\":{\"arrowcolor\":\"#2a3f5f\",\"arrowhead\":0,\"arrowwidth\":1},\"geo\":{\"bgcolor\":\"white\",\"landcolor\":\"#E5ECF6\",\"subunitcolor\":\"white\",\"showland\":true,\"showlakes\":true,\"lakecolor\":\"white\"},\"title\":{\"x\":0.05},\"mapbox\":{\"style\":\"light\"}}},\"legend\":{\"tracegroupgap\":0},\"margin\":{\"t\":60}},                        {\"responsive\": true}                    ).then(function(){\n",
       "                            \n",
       "var gd = document.getElementById('795283b1-9658-4ee3-bf84-21a4363ea2e2');\n",
       "var x = new MutationObserver(function (mutations, observer) {{\n",
       "        var display = window.getComputedStyle(gd).display;\n",
       "        if (!display || display === 'none') {{\n",
       "            console.log([gd, 'removed!']);\n",
       "            Plotly.purge(gd);\n",
       "            observer.disconnect();\n",
       "        }}\n",
       "}});\n",
       "\n",
       "// Listen for the removal of the full notebook cells\n",
       "var notebookContainer = gd.closest('#notebook-container');\n",
       "if (notebookContainer) {{\n",
       "    x.observe(notebookContainer, {childList: true});\n",
       "}}\n",
       "\n",
       "// Listen for the clearing of the current output cell\n",
       "var outputEl = gd.closest('.output');\n",
       "if (outputEl) {{\n",
       "    x.observe(outputEl, {childList: true});\n",
       "}}\n",
       "\n",
       "                        })                };                });            </script>        </div>"
      ]
     },
     "metadata": {},
     "output_type": "display_data"
    }
   ],
   "source": [
    "fig = px.treemap(groups, path=['final_group'], values='perc')\n",
    "fig.show()"
   ]
  },
  {
   "cell_type": "markdown",
   "metadata": {
    "id": "Q-rNCxmpfntc"
   },
   "source": [
    "# Бизнес-выводы"
   ]
  },
  {
   "cell_type": "markdown",
   "metadata": {},
   "source": [
    "Рекомендации по группам"
   ]
  },
  {
   "cell_type": "markdown",
   "metadata": {
    "id": "x66UZSDhUjm2"
   },
   "source": [
    "1. **Группа AAA** - посмотреть XYZ, чтобы принять решение о поднятии цены\n",
    "\n",
    "*   Если группа X - можно поднимать (тестово!) цену на короткий период, чтобы увеличить маржинальность. Тестим в течение небольшого срока, чтобы оценить динамику продаж.\n",
    "*   Если группа Y/Z, лучше не увеличивать цену, потому что сложно будет оценить влияние. Лучше понять, почему спрос нестабильный. И либо поднять цену, но аккуратно + спланировать эксперимент на более длинный срок, либо не повышать цену (если, например, покупают только по акции).\n",
    "\n",
    "2. **Группа ССA** - оценить объективность причин + часть вывести из ассортимента (их много) + попробовать перевести в группу повыше по количеству (а может и по выручке за счет этого)\n",
    "\n",
    "* Объективность причин - не отсутствовал товар, есть ли он на полке, нормально ли его видно, не просроченный ли он.\n",
    "* Подтянуть в группу B по количеству можно за счет акции 1+1 или 2+1 даже. Т.к. товар дешевый, его покупают экономичные люди. А значит можно увеличить средний чек и количество продаж за счет такой акции, стимулируя покупать больше.\n",
    "* Аистенок, Дени и Сарма примерно с одинаковыми показателями, при этом там нет каких-то нишевых товаров - скорее всего это покупают условные бабушки, которым все равно. А значит можно сократить до 2 товаров.\n",
    "\n",
    "3. **Группа AAB** - нужно просто найти более выгодную цену поставки, чтобы стать AAA. Либо попробовать немного подтянуть цену, если это группа X по XYZ-анализу.\n",
    "\n",
    "4. **Группа ABA** - судя по всему, какой-то нишевый порошок СПАРК ДРАМ. Нужно увеличить количество продаж, не упав в прибыли. Можно попробовать постепенно:\n",
    "\n",
    "* Поставить на более видное место + выделить какими-то ценниками или промо-оформлением\n",
    "* Сделать акцию формата 1+1\n",
    "* Сделать акцию скидка при покупке от N штук\n",
    "* Сделать акцию через кросс-сейл, например, при покупке кондиционера скидка 10% на порошок СПАРК ДРАМ (главное не уронить доходность, оставить в группе А)\n",
    "\n",
    "5. **Группа ABB**. BIO Mio - нишевая линейка, приносит средний доход и продается в среднем количестве. Это очень хорошо для нишевых продуктов. Можно попробовать подтянуть какой-то один показатель - и лучше пусть это будет количество. Люди привыкнут к продукту, а потом можно будет поднять цену и подтянуть доходность. Соответственно - выставляем на видное место, сочно оформляем, делаем акцию на их продукцию. Для сохранения доходности можно попросить поставщика дать скидку на время акции.\n",
    "\n",
    "6. **Группа BAA**. Попрошок Пемос - продается много, хорошая доходность, но просто за счет низкой цены маленькая выручка. Цену поднимать довольно опасно, увеличивать сильно количество продаж - бессмысленно (т.к. дешевый сегмент). Можно просто оставить как есть.\n",
    "\n",
    "7. **Группа BAB**. Ariel - довольно дорогой бренд. По количеству в группе А, но средняя доходность и средняя выручка. Если он в группе X/Y по цене, стоит попробовать поднять цену и подтянуть выручку и прибыль.\n",
    "\n",
    "8. **Группа BBA**. Persil - аналог Ariel, та же история. Но у него нормальная доходность, при этом не очень много продаж. Стоит подтянуть количество продаж. Как вариант - посмотреть расположение на полках Ariel и Persil. Ariel в группе А по количеству - может быть его поставить повыше, а Persil на уровне глаз, чтобы стимулировать продажи. А Ariel, если его покупают много, потому что любят, сильно в количестве не упадет.\n",
    "\n",
    "9. **Группа BCC**. Линейка Meine Liebe - еще одна нишевая линейка. Но в отличие от BIO MIO, она продается мало и с плохой доходностью. Поднимать цену нельзя - и так мало продается. Акцию не сделаешь - и так доходность маленькая.\n",
    "\n",
    "* Ищем другого поставщика или сбиваем цену у текущего, чтобы увеличить прибыль.\n",
    "* Нужно увеличить продажи и привить любовь к бренду - расставляем по магазину для кросс-сейла (например, можно поставить порошок для шерсти около пледов), ставим на кассу. Можно выдавать пробники - работает отлично. Визуально выделяем линейку, чтобы выглядело сочно.\n",
    "* Делаем акцию - при покупки Meine Liebe скидка N% на какую-то высокомаржинальную смежную штуку (например, средство для посуды). За счет этого повышаем продажи, но не роняем маржинальность самого товара.\n",
    "* Фиксируем срок эксперимента (в зависимости от проходимости - несколько недель или несколько месяцев). Если не помогает - выводим и пробуем другую линейку.\n",
    "\n",
    "10. **Группа CBA**. Порошок АИСТ - та же история, что с группой CCA, только продается чаще. За счет вывода из ассортимента 1-2 товаров из группы CCA может вырасти его кол-во покупок и он станет CAA.\n",
    "\n",
    "11. **Группа CBB**. По аналогии с CBA и CCA. Только и продается средне, и доходность низкая. Можно либо найти более дешевую цену закупки и перевести в группу CBA. Либо также посмотреть на изменение метрик за счет сокращения ассортимента.\n",
    "\n",
    "12. **Группа CCC**. Меуле - нишевая фирма, но у нас она в аутсайдерах по всем параметрам, включая доходность (обычно нишевые вещи в топе по доходности, на этом можно играть). Имеет смысл вывести - фанатов у нее явно не много - и попробовать другую линейку. Либо вообще не пробовать пока и посмотреть на изменения в других нишевых линейках.\n",
    "\n",
    "\n",
    "\n",
    "\n",
    "\n"
   ]
  }
 ],
 "metadata": {
  "colab": {
   "provenance": []
  },
  "kernelspec": {
   "display_name": "Python 3 (ipykernel)",
   "language": "python",
   "name": "python3"
  },
  "language_info": {
   "codemirror_mode": {
    "name": "ipython",
    "version": 3
   },
   "file_extension": ".py",
   "mimetype": "text/x-python",
   "name": "python",
   "nbconvert_exporter": "python",
   "pygments_lexer": "ipython3",
   "version": "3.11.5"
  }
 },
 "nbformat": 4,
 "nbformat_minor": 4
}
